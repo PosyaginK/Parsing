{
 "cells": [
  {
   "cell_type": "markdown",
   "id": "f0c28823-9dc7-4552-b06a-72bf069ef164",
   "metadata": {},
   "source": [
    "# 1. Посмотреть документацию к API GitHub, разобраться как вывести список репозиториев для конкретного пользователя, сохранить JSON-вывод в файле *.json.\n"
   ]
  },
  {
   "cell_type": "markdown",
   "id": "b8373df4-be3f-4d21-8cd5-63267a0f1d48",
   "metadata": {},
   "source": [
    "На сайте [GitHub](https://docs.github.com/en) есть информация об их API. Но честно говоря разобраться там не очень то и просто. Немнго погуглив удалось получить список репозиториев в json."
   ]
  },
  {
   "cell_type": "code",
   "execution_count": 1,
   "id": "1abeb7bd-1e52-4815-9629-7ff5ac81574a",
   "metadata": {},
   "outputs": [],
   "source": [
    "# Импортируем нужные библиотеки\n",
    "import requests\n",
    "import json"
   ]
  },
  {
   "cell_type": "code",
   "execution_count": 2,
   "id": "d460d721-2eb9-4d6b-8b36-d0b65dec8bc1",
   "metadata": {},
   "outputs": [],
   "source": [
    "# Прописываем нужные данные:\n",
    "url = 'https://api.github.com' # Ссылка на github api\n",
    "user = 'PosyaginK' # Ник пользователя GitHub, чьи репозитории будем парсить\n",
    "r = requests.get(f'{url}/users/{user}/repos') # get запрос "
   ]
  },
  {
   "cell_type": "code",
   "execution_count": 3,
   "id": "6845906e-67fa-4a98-9893-10994e9f5490",
   "metadata": {},
   "outputs": [],
   "source": [
    "# Записываем полученный json в файл data.json\n",
    "with open('data.json', 'w') as f:\n",
    "    json.dump(r.json(), f)"
   ]
  },
  {
   "cell_type": "code",
   "execution_count": 4,
   "id": "d378b9e1-e930-45bc-aeea-91b11f0e05bf",
   "metadata": {},
   "outputs": [
    {
     "name": "stdout",
     "output_type": "stream",
     "text": [
      "Algorithms_for_python\n",
      "grokking_algorims\n",
      "kaggle\n",
      "MySQL_HomeWork\n",
      "Parsing\n",
      "Python_HomeWork\n",
      "Python_libs\n"
     ]
    }
   ],
   "source": [
    "# Выведем названия репозиториев\n",
    "for i in r.json():\n",
    "    print(i['name'])"
   ]
  },
  {
   "cell_type": "markdown",
   "id": "ac3c89e8-7446-47d4-89ad-9ce99eb828ed",
   "metadata": {},
   "source": [
    "Также я нашел заветную [страничку](https://docs.github.com/en/rest/overview/libraries)\n",
    "Там целый список готовых библиотек для python для парсинга github. Остановлся я на \"PyGithub\"."
   ]
  },
  {
   "cell_type": "markdown",
   "id": "235d67f4-f23d-4e4c-9f1f-09a460ca4fb5",
   "metadata": {},
   "source": [
    "\n",
    "    $ pip install PyGithub"
   ]
  },
  {
   "cell_type": "code",
   "execution_count": 5,
   "id": "99067118-f25d-4700-bc54-49f5c7b78dde",
   "metadata": {},
   "outputs": [],
   "source": [
    "# Подгружаем библиотеку \n",
    "from github import Github"
   ]
  },
  {
   "cell_type": "code",
   "execution_count": 6,
   "id": "e09f21f0-9511-4f3b-a51c-8a676fdcd559",
   "metadata": {},
   "outputs": [],
   "source": [
    "# Для работы в этой библиотеке пользуем access token\n",
    "g = Github(\"ТУТ МОЙ ТОКЕН ОТ ГИТ\")"
   ]
  },
  {
   "cell_type": "code",
   "execution_count": 7,
   "id": "f780b220-5ebe-4f2e-8962-858d5fe89697",
   "metadata": {},
   "outputs": [],
   "source": [
    "# Добавим ссылку на github api:\n",
    "g = Github(base_url=\"https://api.github.com\", login_or_token=\"ТУТ МОЙ ТОКЕН ОТ ГИТ\")"
   ]
  },
  {
   "cell_type": "code",
   "execution_count": 8,
   "id": "6ed039e6-4d52-42b7-89c1-224ab75795a8",
   "metadata": {},
   "outputs": [
    {
     "name": "stdout",
     "output_type": "stream",
     "text": [
      "1. Algorithms_for_python\n",
      "2. grokking_algorims\n",
      "3. kaggle\n",
      "4. MySQL_HomeWork\n",
      "5. Parsing\n",
      "6. Python_HomeWork\n",
      "7. Python_libs\n"
     ]
    }
   ],
   "source": [
    "# Теперь мы можем парсить названия рапозиторев пользователя прямо в текстовом виде, без json:\n",
    "i = 1 # Для нумерации репозиториев\n",
    "for repo in g.get_user(user).get_repos():\n",
    "    print(f'{i}. {repo.name}')\n",
    "    i += 1"
   ]
  },
  {
   "cell_type": "markdown",
   "id": "4d29e9e7-0017-4af3-9197-665fc6025965",
   "metadata": {},
   "source": [
    "# 2. Изучить список открытых API. Найти среди них любое, требующее авторизацию (любого типа). Выполнить запросы к нему, пройдя авторизацию. Ответ сервера записать в файл."
   ]
  },
  {
   "cell_type": "markdown",
   "id": "6f4d1013-fd6a-4a75-95d3-04a6df102dcd",
   "metadata": {},
   "source": [
    "Для этого задания я выбрал api vkontakte. \n",
    "Процедуру создания приложения и получения токена доступа расписывать не буду, все подробно прописано в [документации](https://vk.com/dev/manuals)."
   ]
  },
  {
   "cell_type": "markdown",
   "id": "57b9fde2-5b8a-4f58-beeb-87ba773ccf00",
   "metadata": {},
   "source": [
    "## Устанавливаем vk_api\n",
    "    $ pip install vk"
   ]
  },
  {
   "cell_type": "code",
   "execution_count": 56,
   "id": "9b68f80f-d0ac-43b3-a389-277de3055433",
   "metadata": {},
   "outputs": [],
   "source": [
    "# Импортируем библиотеку\n",
    "import vk"
   ]
  },
  {
   "cell_type": "code",
   "execution_count": 46,
   "id": "fb7fd03e-7c47-4a54-9adb-d05fc3718abb",
   "metadata": {},
   "outputs": [],
   "source": [
    "# Тут токен доступа:\n",
    "token = 'ТУТ МОЙ ТОКЕН ОТ ВК'"
   ]
  },
  {
   "cell_type": "code",
   "execution_count": 57,
   "id": "e90287c0-bd5f-404f-b168-b4c0bf3e682e",
   "metadata": {},
   "outputs": [],
   "source": [
    "# Авторизуемся с помощью токена \n",
    "session = vk.Session(access_token=token)\n",
    "api = vk.API(session)"
   ]
  },
  {
   "cell_type": "code",
   "execution_count": 58,
   "id": "775719af-1ba4-40a1-847c-6e6aa38f7a08",
   "metadata": {},
   "outputs": [
    {
     "name": "stdout",
     "output_type": "stream",
     "text": [
      "{'count': 169, 'items': [1871758, 2694100, 3232257, 5162022, 7082030, 8656008, 9688488, 10006579, 12960649, 14256948, 16540894, 16541447, 19933249, 20434306, 21277208, 22176028, 22247758, 22443531, 24656845, 26355930, 27059269, 27677927, 28062776, 28617017, 28671448, 28675485, 29205821, 29701182, 30095893, 30723090, 31769619, 32124139, 35489135, 36108952, 39593761, 41324996, 43531754, 44768969, 47099352, 49231341, 50232379, 50664493, 50864286, 51240934, 53793546, 54580779, 55123136, 56181010, 57190410, 57465295, 57762281, 58751113, 58818894, 59246664, 62378671, 62888637, 64113745, 65378589, 65685320, 66440569, 69890495, 70710544, 71962791, 72046876, 81074453, 81219792, 82407513, 82992123, 83235878, 85565781, 86061215, 86107607, 86135758, 87204424, 87741991, 90132879, 91210218, 95696065, 96243516, 99033953, 100025365, 105298546, 109106512, 110568764, 111406490, 117461921, 118097483, 119711171, 122377811, 128235529, 132563830, 134248415, 134904296, 135024625, 135572850, 135930417, 137847485, 139703021, 140137007, 140295571, 140622676, 142053992, 145942443, 147478692, 150457104, 151040344, 151060759, 152366564, 156262985, 159952446, 160040623, 160876674, 166474086, 172815371, 178258144, 183846862, 185875909, 188693041, 201040656, 211624701, 211716261, 213819537, 213901112, 219713289, 223372311, 231721521, 235610793, 272299714, 279699413, 281117589, 281344524, 284100392, 286767219, 288383652, 288857840, 291206139, 296042607, 298058003, 304574959, 307431028, 314693885, 319056411, 339449067, 341990528, 347016166, 349025505, 356896604, 369901033, 378060323, 381503733, 406699903, 411554615, 415902967, 429762747, 441494486, 467234415, 470129197, 500304873, 511193008, 517666668, 517667921, 519988953, 524219661, 537027554, 565552241, 583899898, 597015815, 657379272, 665264026]}\n"
     ]
    }
   ],
   "source": [
    "# Получим айдишники моих друзей вконтакте: (https://vk.com/cuss17)\n",
    "f = api.friends.get(user_id=352043580, v=5.131)\n",
    "print(f)"
   ]
  },
  {
   "cell_type": "markdown",
   "id": "73add731-3ed2-4193-8141-c4f15f89b71a",
   "metadata": {},
   "source": [
    "Отлично!! Количество друзей вконтакте дейстительно 169. "
   ]
  },
  {
   "cell_type": "code",
   "execution_count": 63,
   "id": "a453e57b-c42a-40fb-8fca-015d8491953a",
   "metadata": {},
   "outputs": [],
   "source": [
    "# Запишем полученные айдишники в файл\n",
    "\n",
    "with open('my_friends_id.json', 'w') as file:\n",
    "    json.dump(f, file)"
   ]
  },
  {
   "cell_type": "code",
   "execution_count": null,
   "id": "5e92d1bf-9a3a-4fcc-ac8f-637f90d4313c",
   "metadata": {},
   "outputs": [],
   "source": []
  }
 ],
 "metadata": {
  "kernelspec": {
   "display_name": "Python 3",
   "language": "python",
   "name": "python3"
  },
  "language_info": {
   "codemirror_mode": {
    "name": "ipython",
    "version": 3
   },
   "file_extension": ".py",
   "mimetype": "text/x-python",
   "name": "python",
   "nbconvert_exporter": "python",
   "pygments_lexer": "ipython3",
   "version": "3.8.10"
  }
 },
 "nbformat": 4,
 "nbformat_minor": 5
}
