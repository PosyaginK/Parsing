{
 "cells": [
  {
   "cell_type": "markdown",
   "id": "f0c28823-9dc7-4552-b06a-72bf069ef164",
   "metadata": {},
   "source": [
    "1. Посмотреть документацию к API GitHub, разобраться как вывести список репозиториев для конкретного пользователя, сохранить JSON-вывод в файле *.json.\n"
   ]
  },
  {
   "cell_type": "markdown",
   "id": "b8373df4-be3f-4d21-8cd5-63267a0f1d48",
   "metadata": {},
   "source": [
    "На сайте [GitHub](https://docs.github.com/en) есть информация об их API. Но честно говоря разобраться там не очень то и просто. Немнго погуглив удалось получить список репозиториев в json."
   ]
  },
  {
   "cell_type": "code",
   "execution_count": 1,
   "id": "1abeb7bd-1e52-4815-9629-7ff5ac81574a",
   "metadata": {},
   "outputs": [],
   "source": [
    "# Импортируем нужные библиотеки\n",
    "import requests\n",
    "import json"
   ]
  },
  {
   "cell_type": "code",
   "execution_count": 2,
   "id": "d460d721-2eb9-4d6b-8b36-d0b65dec8bc1",
   "metadata": {},
   "outputs": [],
   "source": [
    "# Прописываем нужные данные:\n",
    "url = 'https://api.github.com' # Ссылка на github api\n",
    "user = 'PosyaginK' # Ник пользователя GitHub, чьи репозитории будем парсить\n",
    "r = requests.get(f'{url}/users/{user}/repos') # get запрос "
   ]
  },
  {
   "cell_type": "code",
   "execution_count": 3,
   "id": "6845906e-67fa-4a98-9893-10994e9f5490",
   "metadata": {},
   "outputs": [],
   "source": [
    "# Записываем полученный json в файл data.json\n",
    "with open('data.json', 'w') as f:\n",
    "    json.dump(r.json(), f)"
   ]
  },
  {
   "cell_type": "code",
   "execution_count": 4,
   "id": "d378b9e1-e930-45bc-aeea-91b11f0e05bf",
   "metadata": {},
   "outputs": [
    {
     "name": "stdout",
     "output_type": "stream",
     "text": [
      "Algorithms_for_python\n",
      "grokking_algorims\n",
      "kaggle\n",
      "MySQL_HomeWork\n",
      "Python_HomeWork\n",
      "Python_libs\n"
     ]
    }
   ],
   "source": [
    "# Выведем названия репозиториев\n",
    "for i in r.json():\n",
    "    print(i['name'])"
   ]
  },
  {
   "cell_type": "markdown",
   "id": "ac3c89e8-7446-47d4-89ad-9ce99eb828ed",
   "metadata": {},
   "source": [
    "Также я нашел заветную [страничку](https://docs.github.com/en/rest/overview/libraries)\n",
    "Там целый список готовых библиотек для python для парсинга github. Остановлся я на \"PyGithub\"."
   ]
  },
  {
   "cell_type": "markdown",
   "id": "235d67f4-f23d-4e4c-9f1f-09a460ca4fb5",
   "metadata": {},
   "source": [
    "\n",
    "    $ pip install PyGithub"
   ]
  },
  {
   "cell_type": "code",
   "execution_count": 5,
   "id": "99067118-f25d-4700-bc54-49f5c7b78dde",
   "metadata": {},
   "outputs": [],
   "source": [
    "# Подгружаем библиотеку \n",
    "from github import Github"
   ]
  },
  {
   "cell_type": "code",
   "execution_count": 6,
   "id": "e09f21f0-9511-4f3b-a51c-8a676fdcd559",
   "metadata": {},
   "outputs": [],
   "source": [
    "# Для работы в этой библиотеке пользуем access token\n",
    "g = Github(\"Тут мой access token\")"
   ]
  },
  {
   "cell_type": "code",
   "execution_count": 8,
   "id": "f780b220-5ebe-4f2e-8962-858d5fe89697",
   "metadata": {},
   "outputs": [],
   "source": [
    "# Добавим ссылку на github api:\n",
    "g = Github(base_url=\"https://api.github.com\", login_or_token=\"Тут мой access token\")"
   ]
  },
  {
   "cell_type": "code",
   "execution_count": 9,
   "id": "6ed039e6-4d52-42b7-89c1-224ab75795a8",
   "metadata": {},
   "outputs": [
    {
     "name": "stdout",
     "output_type": "stream",
     "text": [
      "1. Algorithms_for_python\n",
      "2. grokking_algorims\n",
      "3. kaggle\n",
      "4. MySQL_HomeWork\n",
      "5. Python_HomeWork\n",
      "6. Python_libs\n"
     ]
    }
   ],
   "source": [
    "# Теперь мы можем парсить названия рапозиторев пользователя прямо в текстовом виде, без json:\n",
    "i = 1 # Для нумерации репозиториев\n",
    "for repo in g.get_user(user).get_repos():\n",
    "    print(f'{i}. {repo.name}')\n",
    "    i += 1"
   ]
  }
 ],
 "metadata": {
  "kernelspec": {
   "display_name": "Python 3",
   "language": "python",
   "name": "python3"
  },
  "language_info": {
   "codemirror_mode": {
    "name": "ipython",
    "version": 3
   },
   "file_extension": ".py",
   "mimetype": "text/x-python",
   "name": "python",
   "nbconvert_exporter": "python",
   "pygments_lexer": "ipython3",
   "version": "3.8.10"
  }
 },
 "nbformat": 4,
 "nbformat_minor": 5
}
