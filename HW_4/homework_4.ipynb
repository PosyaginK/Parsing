{
 "cells": [
  {
   "cell_type": "markdown",
   "id": "b4c9fc02-714d-4a98-94a7-c399a1ee084b",
   "metadata": {},
   "source": [
    "# 1. Написать приложение, которое собирает основные новости с сайтов \n",
    "\n",
    "    https://news.mail.ru, \n",
    "    https://lenta.ru, \n",
    "    https://yandex.ru/news. \n",
    "    \n",
    "## Для парсинга использовать XPath. Структура данных должна содержать:\n",
    "\n",
    "     название источника;\n",
    "     наименование новости;\n",
    "     ссылку на новость;\n",
    "     дата публикации.\n"
   ]
  },
  {
   "cell_type": "code",
   "execution_count": 1,
   "id": "d199efdc-d0e7-4279-a971-c17ad00a5136",
   "metadata": {},
   "outputs": [],
   "source": [
    "from pprint import pprint\n",
    "from lxml import html\n",
    "import requests\n",
    "import time"
   ]
  },
  {
   "cell_type": "code",
   "execution_count": 2,
   "id": "eced0cea-cbbf-47f1-b8da-5370713d0e11",
   "metadata": {},
   "outputs": [],
   "source": [
    "header = {\n",
    "    'User-Agent': 'Mozilla/5.0 (X11; Linux x86_64) AppleWebKit/537.36 (KHTML, like Gecko) Chrome/92.0.4515.131 Safari/537.36'\n",
    "}"
   ]
  },
  {
   "cell_type": "markdown",
   "id": "1e51af10-01de-4dea-a811-e1709dfef96e",
   "metadata": {},
   "source": [
    "# Mail"
   ]
  },
  {
   "cell_type": "code",
   "execution_count": 3,
   "id": "08949d01-a0db-4660-b771-6e7d23339055",
   "metadata": {},
   "outputs": [],
   "source": [
    "mail_url = 'https://news.mail.ru'"
   ]
  },
  {
   "cell_type": "code",
   "execution_count": 4,
   "id": "df8fb1cc-1ee9-4d87-a039-1f6d3e13ea69",
   "metadata": {},
   "outputs": [],
   "source": [
    "response = requests.get(mail_url, headers = header)    "
   ]
  },
  {
   "cell_type": "code",
   "execution_count": 5,
   "id": "f262709f-e4e2-4c4f-ac51-c211beecdeb2",
   "metadata": {},
   "outputs": [
    {
     "data": {
      "text/plain": [
       "<Response [200]>"
      ]
     },
     "execution_count": 5,
     "metadata": {},
     "output_type": "execute_result"
    }
   ],
   "source": [
    "response"
   ]
  },
  {
   "cell_type": "code",
   "execution_count": 6,
   "id": "5e2e59f0-9ca5-4aa4-a634-8974998a3ad0",
   "metadata": {},
   "outputs": [],
   "source": [
    "root = html.fromstring(response.text)"
   ]
  },
  {
   "cell_type": "code",
   "execution_count": 7,
   "id": "4450bbd5-e69d-4164-8fb5-deec52b4145a",
   "metadata": {},
   "outputs": [
    {
     "data": {
      "text/plain": [
       "<Element html at 0x7f92ce747ef0>"
      ]
     },
     "execution_count": 7,
     "metadata": {},
     "output_type": "execute_result"
    }
   ],
   "source": [
    "root"
   ]
  },
  {
   "cell_type": "code",
   "execution_count": 8,
   "id": "eaeebefa-a1dc-44ee-afc4-24a388fde28e",
   "metadata": {},
   "outputs": [],
   "source": [
    "news = root.xpath('//div[@class=\"newsitem newsitem_height_fixed js-ago-wrapper\"]')"
   ]
  },
  {
   "cell_type": "code",
   "execution_count": 9,
   "id": "42c11177-4dc5-474b-a22e-4be1e4556a8c",
   "metadata": {},
   "outputs": [
    {
     "data": {
      "text/plain": [
       "[<Element div at 0x7f92ce6a2e50>,\n",
       " <Element div at 0x7f92ce6a2ea0>,\n",
       " <Element div at 0x7f92ce6a2ef0>,\n",
       " <Element div at 0x7f92ce6a2f40>]"
      ]
     },
     "execution_count": 9,
     "metadata": {},
     "output_type": "execute_result"
    }
   ],
   "source": [
    "news"
   ]
  },
  {
   "cell_type": "code",
   "execution_count": 10,
   "id": "20eae388-2492-4d49-a7bc-09c96e2debaf",
   "metadata": {},
   "outputs": [
    {
     "name": "stdout",
     "output_type": "stream",
     "text": [
      "Новость - ['Наивность, самообман, коррупция. Мировая пресса — о причинах провала афганского проекта США']\n",
      "Источник - ['BBC News Русская служба']\n",
      "Ссылка - ['https://news.mail.ru/politics/47532964/']\n",
      "Время публикации - ['2021-08-16T19:36:24+03:00']\n",
      "Новость - ['США начали расследование нерыночности российской экономики']\n",
      "Источник - ['Коммерсантъ']\n",
      "Ссылка - ['https://news.mail.ru/economics/47535294/']\n",
      "Время публикации - ['2021-08-16T11:30:00+03:00']\n",
      "Новость - ['В Сингапуре родился первый детеныш большой панды (видео)']\n",
      "Источник - ['Новости Mail.ru']\n",
      "Ссылка - ['https://news.mail.ru/society/47541867/']\n",
      "Время публикации - ['2021-08-16T17:35:49+03:00']\n",
      "Новость - ['«Талибан» начал арестовывать бывших афганских чиновников']\n",
      "Источник - ['Lenta.Ru']\n",
      "Ссылка - ['https://news.mail.ru/incident/47541627/']\n",
      "Время публикации - ['2021-08-16T18:03:26+03:00']\n"
     ]
    }
   ],
   "source": [
    "for new in news:\n",
    "    herf = new.xpath(\".//span[@class='cell']/a/@href\")\n",
    "    title = new.xpath(\".//span[@class='cell']/a/span/text()\")\n",
    "    source = new.xpath(\".//div[@class='newsitem__params']/span[@class='newsitem__param']/text()\")\n",
    "    time_pub = new.xpath(\".//div[@class='newsitem__params']/span[@class='newsitem__param js-ago']/@datetime\")\n",
    "    print(f'Новость - {title}\\nИсточник - {source}\\nСсылка - {herf}\\nВремя публикации - {time_pub}')"
   ]
  },
  {
   "cell_type": "markdown",
   "id": "3ccd5fec-c96a-4105-9d5f-ae5a3f21d67e",
   "metadata": {},
   "source": [
    "# Yandex"
   ]
  },
  {
   "cell_type": "code",
   "execution_count": 11,
   "id": "3c24d6fe-e196-4be5-9d4e-0c8e21fce4ae",
   "metadata": {},
   "outputs": [],
   "source": [
    "yandex_url = 'https://yandex.ru/news'"
   ]
  },
  {
   "cell_type": "code",
   "execution_count": 12,
   "id": "2ff8f3b5-2265-4b3e-912c-095392411271",
   "metadata": {},
   "outputs": [],
   "source": [
    "news_classs = ['mg-grid__col mg-grid__col_xs_4', 'mg-grid__col mg-grid__col_xs_6', 'mg-grid__col mg-grid__col_xs_8']"
   ]
  },
  {
   "cell_type": "code",
   "execution_count": 13,
   "id": "f1bd74d8-c80e-4c6f-acb6-925f2086ccc0",
   "metadata": {},
   "outputs": [],
   "source": [
    "yandex_response = requests.get(yandex_url, headers=header)"
   ]
  },
  {
   "cell_type": "code",
   "execution_count": 14,
   "id": "f93b2df8-4417-422f-802f-e941f60cac21",
   "metadata": {},
   "outputs": [
    {
     "data": {
      "text/plain": [
       "<Response [200]>"
      ]
     },
     "execution_count": 14,
     "metadata": {},
     "output_type": "execute_result"
    }
   ],
   "source": [
    "yandex_response"
   ]
  },
  {
   "cell_type": "code",
   "execution_count": 15,
   "id": "9e28f25f-17d5-48af-bb23-2c717e28169e",
   "metadata": {},
   "outputs": [],
   "source": [
    "yandex_html = html.fromstring(yandex_response.text)"
   ]
  },
  {
   "cell_type": "code",
   "execution_count": 16,
   "id": "44989628-0fc4-4468-b061-267389444e1a",
   "metadata": {},
   "outputs": [
    {
     "data": {
      "text/plain": [
       "<Element html at 0x7f92ce6a2c70>"
      ]
     },
     "execution_count": 16,
     "metadata": {},
     "output_type": "execute_result"
    }
   ],
   "source": [
    "yandex_html"
   ]
  },
  {
   "cell_type": "code",
   "execution_count": 17,
   "id": "ba9c1b19-b89f-4176-96cf-977e9fbedfc6",
   "metadata": {},
   "outputs": [
    {
     "data": {
      "text/plain": [
       "[<Element div at 0x7f92ce6b7ea0>,\n",
       " <Element div at 0x7f92ce6b7ef0>,\n",
       " <Element div at 0x7f92ce6b7f40>,\n",
       " <Element div at 0x7f92ce6b7f90>,\n",
       " <Element div at 0x7f92ce6c1040>,\n",
       " <Element div at 0x7f92ce6c1090>,\n",
       " <Element div at 0x7f92ce6c10e0>,\n",
       " <Element div at 0x7f92ce6c1130>,\n",
       " <Element div at 0x7f92ce6c1180>,\n",
       " <Element div at 0x7f92ce6c11d0>,\n",
       " <Element div at 0x7f92ce6c1220>,\n",
       " <Element div at 0x7f92ce6c1270>,\n",
       " <Element div at 0x7f92ce6c12c0>,\n",
       " <Element div at 0x7f92ce6c1310>,\n",
       " <Element div at 0x7f92ce6c1360>,\n",
       " <Element div at 0x7f92ce6c13b0>]"
      ]
     },
     "execution_count": 17,
     "metadata": {},
     "output_type": "execute_result"
    }
   ],
   "source": [
    "yandex_news = yandex_html.xpath('//div[@class=\"mg-grid__col mg-grid__col_xs_4\"]')\n",
    "yandex_news"
   ]
  },
  {
   "cell_type": "code",
   "execution_count": 18,
   "id": "1ff2b00e-726e-4ff0-b976-f05f3f2dadde",
   "metadata": {
    "tags": []
   },
   "outputs": [
    {
     "name": "stdout",
     "output_type": "stream",
     "text": [
      "Новость - ['Дзюба не вызван в\\xa0сборную России по\\xa0футболу на\\xa0матчи с\\xa0Хорватией, Кипром и Мальтой']\n",
      "Источник - ['RT на русском']\n",
      "Ссылка - ['https://yandex.ru/sport/story/Dzyuba_ne_vyzvan_vsbornuyu_Rossii_pofutbolu_namatchi_sKHorvatiej_Kiprom_i_Maltoj--f14f531aa60e55bb81c52fd2537865e7?lang=ru&rubric=index&fan=1&stid=V498idJNdUQixdUA0jCI&t=1629133046&tt=true&persistent_id=155900283&utm_source=yxnews&utm_medium=desktop']\n",
      "Время публикации - ['21:54']\n",
      "Новость - ['Глава Пентагона не планирует уходить в\\xa0отставку в\\xa0связи с\\xa0событиями в\\xa0Афганистане']\n",
      "Источник - ['ТАСС']\n",
      "Ссылка - ['https://yandex.ru/news/story/Glava_Pentagona_ne_planiruet_ukhodit_votstavku_vsvyazi_ssobytiyami_vAfganistane--ff499feebc6fd4fbd19e2e3360cf2026?lang=ru&rubric=index&fan=1&stid=LOZGjJUWccqk1TijzfDh&t=1629133046&tt=true&persistent_id=155844301']\n",
      "Время публикации - ['21:51']\n",
      "Новость - ['Минторг США из-за\\xa0цен на\\xa0удобрение изучит рыночность экономики России']\n",
      "Источник - ['Lenta.ru']\n",
      "Ссылка - ['https://yandex.ru/news/story/Mintorg_SSHA_iz-zacen_naudobrenie_izuchit_rynochnost_ehkonomiki_Rossii--025db99da9fad845714ba93ee2514df3?lang=ru&rubric=index&fan=1&stid=jzJEWrrCnYpZRZZwWSU3&t=1629133046&tt=true&persistent_id=155872526']\n",
      "Время публикации - ['21:44']\n",
      "Новость - ['«Газпром» забронировал 4,3% допмощностей по\\xa0транзиту газа через\\xa0Украину в\\xa0сентябре']\n",
      "Источник - ['Ведомости']\n",
      "Ссылка - ['https://yandex.ru/news/story/Gazprom_zabroniroval_43_dopmoshhnostej_potranzitu_gaza_cherezUkrainu_vsentyabre--9795a41b9bd112ca4ecadf803411f8b7?lang=ru&rubric=index&fan=1&stid=qVlvZiuZuWDI-VxpNYRb&t=1629133046&tt=true&persistent_id=155891717']\n",
      "Время публикации - ['21:41']\n",
      "Новость - ['«Просто опухли от\\xa0наглости». Дмитрий Махонин высказался о\\xa0стройке дома на\\xa0Горького, 86']\n",
      "Источник - ['59.ru']\n",
      "Ссылка - ['https://yandex.ru/news/story/Prosto_opukhli_otnaglosti._Dmitrij_Makhonin_vyskazalsya_ostrojke_doma_naGorkogo_86--29219db01238471c369ef4ede83cd626?lang=ru&rubric=Perm&fan=1&stid=AFSw&t=1629133046&persistent_id=155918556']\n",
      "Время публикации - ['21:13']\n",
      "Новость - ['Ирбитский мотоциклетный завод представил новый Урал Gear Up 2022']\n",
      "Источник - ['Тарантас Ньюс']\n",
      "Ссылка - ['https://yandex.ru/news/story/Irbitskij_motocikletnyj_zavod_predstavil_novyj_Ural_Gear_Up_2022--e49bbf9d0367bb9b29483557d9bf2d87?lang=ru&rubric=personal_feed&fan=1&stid=HMV1&t=1629133046&persistent_id=155913609']\n",
      "Время публикации - ['20:02']\n",
      "Новость - ['CNN: американский военный получил огнестрельное ранение в\\xa0аэропорту Кабула']\n",
      "Источник - ['РИА Новости']\n",
      "Ссылка - ['https://yandex.ru/news/story/CNN_amerikanskij_voennyj_poluchil_ognestrelnoe_ranenie_vaehroportu_Kabula--8ca83a913a8dfacd4727d05a89523df8?lang=ru&rubric=politics&fan=1&stid=NW3i_XGmZY6tNG3plSk_&t=1629133046&tt=true&persistent_id=155910348']\n",
      "Время публикации - ['20:54']\n",
      "Новость - ['Президент России Владимир Путин определил, какие города получат приоритет в\\xa0газификации']\n",
      "Источник - ['Lenta.ru']\n",
      "Ссылка - ['https://yandex.ru/news/story/Prezident_Rossii_Vladimir_Putin_opredelil_kakie_goroda_poluchat_prioritet_vgazifikacii--4e6923adaf96ecd5afaa8336d6493d46?lang=ru&rubric=society&fan=1&stid=gaEGJTkINDnIszJ1tbHH&t=1629133046&tt=true&persistent_id=155907981']\n",
      "Время публикации - ['21:50']\n",
      "Новость - ['Крупные российские банки столкнулись с\\xa0резким оттоком средств населения']\n",
      "Источник - ['Lenta.ru']\n",
      "Ссылка - ['https://yandex.ru/news/story/Krupnye_rossijskie_banki_stolknulis_srezkim_ottokom_sredstv_naseleniya--a24b45c629c2b2c7e90836f9a7b99d67?lang=ru&rubric=business&fan=1&stid=eSrV9H-GXOotZ25SDtTP&t=1629133046&tt=true&persistent_id=155848914']\n",
      "Время публикации - ['21:05']\n",
      "Новость - ['Блинкен ответил на\\xa0критику из-за\\xa0вывода американских войск из\\xa0Афганистана']\n",
      "Источник - ['Life.ru']\n",
      "Ссылка - ['https://yandex.ru/news/story/Blinken_otvetil_nakritiku_iz-zavyvoda_amerikanskikh_vojsk_izAfganistana--6a4ced4055c65a26598aee340f1199b1?lang=ru&rubric=world&fan=1&stid=ku0xa78CK3AGOtK5Vpfi&t=1629133046&persistent_id=155827015']\n",
      "Время публикации - ['20:47']\n",
      "Новость - ['Агент Вильены опроверг наличие конфликта голландца с\\xa0Ильиным']\n",
      "Источник - ['RT на русском']\n",
      "Ссылка - ['https://yandex.ru/sport/story/Agent_Vileny_oproverg_nalichie_konflikta_gollandca_sIlinym--411625e841081bf8b58ee437a392ecbc?lang=ru&rubric=sport&fan=1&stid=Qr-WmeguNaz491y8TCUa&t=1629133046&tt=true&persistent_id=155838881&utm_source=yxnews&utm_medium=desktop']\n",
      "Время публикации - ['21:33']\n",
      "Новость - ['Двое военных из\\xa0упавшего в\\xa0Узбекистане самолета ВВС Афганистана выжили']\n",
      "Источник - ['Lenta.ru']\n",
      "Ссылка - ['https://yandex.ru/news/story/Dvoe_voennykh_izupavshego_vUzbekistane_samoleta_VVS_Afganistana_vyzhili--0bc79fad4221b573620be9030e933ad9?lang=ru&rubric=incident&fan=1&stid=SkK29Bp3oz5Ze1vrFNOT&t=1629133046&tt=true&persistent_id=155877634']\n",
      "Время публикации - ['21:43']\n",
      "Новость - ['Наставниками 10-го сезона телешоу «Голос» стали Билан, Пелагея, Градский и Агутин']\n",
      "Источник - ['Lenta.ru']\n",
      "Ссылка - ['https://yandex.ru/news/story/Nastavnikami_10-go_sezona_teleshou_Golos_stali_Bilan_Pelageya_Gradskij_i_Agutin--541a9067c2f4066f10ddfffc88947401?lang=ru&rubric=culture&fan=1&stid=OV7RCvqp9SQqmwptrdP5&t=1629133046&tt=true&persistent_id=155897813']\n",
      "Время публикации - ['21:36']\n",
      "Новость - ['Первые видеокарты Intel появятся в\\xa0начале 2022 года']\n",
      "Источник - ['Игромания.ру']\n",
      "Ссылка - ['https://yandex.ru/news/story/Pervye_videokarty_Intel_poyavyatsya_vnachale_2022_goda--b52998afa4173f8326ba160b5a967be0?lang=ru&rubric=computers&fan=1&stid=S9yiGlOBWhJnYA0BSsVA&t=1629133046&persistent_id=155908486']\n",
      "Время публикации - ['21:38']\n",
      "Новость - ['JTB: Учёные ФРГ объяснили высокую скорость кошек по\\xa0сравнению с\\xa0людьми']\n",
      "Источник - ['МедиаПоток']\n",
      "Ссылка - ['https://yandex.ru/news/story/JTB_Uchyonye_FRG_obyasnili_vysokuyu_skorost_koshek_posravneniyu_slyudmi--c8518065fb0640caa219d78e319362b1?lang=ru&rubric=science&fan=1&stid=VC1SLdc-6YyqQe97aQl1&t=1629133046&persistent_id=155761837']\n",
      "Время публикации - ['21:23']\n",
      "Новость - ['Skoda объявила стартовую цену на\\xa0обновленный Kodiaq']\n",
      "Источник - ['Автостат']\n",
      "Ссылка - ['https://yandex.ru/news/story/Skoda_obyavila_startovuyu_cenu_naobnovlennyj_Kodiaq--1f377a0ba790c28e23c3c0693e0b11f4?lang=ru&rubric=auto&fan=1&stid=6MLOj3Kqybl5MV6d5S6Z&t=1629133046&persistent_id=155830925']\n",
      "Время публикации - ['20:25']\n"
     ]
    }
   ],
   "source": [
    "for new in yandex_news:\n",
    "    herf = new.xpath(\".//div[@class='mg-card__text']/a/@href\")\n",
    "    title = new.xpath(\".//div[@class='mg-card__text']/a/h2/text()\")\n",
    "    source = new.xpath(\".//article/div[3]/div[1]/div/span[1]/a/text()\")\n",
    "    time_pub = new.xpath(\".//article/div[3]/div[1]/div/span[2]/text()\")\n",
    "    print(f'Новость - {title}\\nИсточник - {source}\\nСсылка - {herf}\\nВремя публикации - {time_pub}')"
   ]
  },
  {
   "cell_type": "markdown",
   "id": "136fe0cf-764f-4f4c-afdd-bcff34d63d70",
   "metadata": {},
   "source": [
    "# Lenta "
   ]
  },
  {
   "cell_type": "code",
   "execution_count": 19,
   "id": "e5941fef-641d-44eb-920c-f6f6427d5090",
   "metadata": {},
   "outputs": [],
   "source": [
    "lenta_url = 'https://lenta.ru/'"
   ]
  },
  {
   "cell_type": "code",
   "execution_count": 20,
   "id": "ba9d7b0f-8699-418d-9229-8235cda78a52",
   "metadata": {},
   "outputs": [],
   "source": [
    "news_clas = ['first-item', 'item']"
   ]
  },
  {
   "cell_type": "code",
   "execution_count": 21,
   "id": "5228eed3-3192-42bd-b521-b3ec95a0d458",
   "metadata": {},
   "outputs": [],
   "source": [
    "lenta_response = requests.get(lenta_url, headers=header)"
   ]
  },
  {
   "cell_type": "code",
   "execution_count": 22,
   "id": "76c43cf9-a8df-4f8f-b3af-e2f2b2323618",
   "metadata": {},
   "outputs": [
    {
     "data": {
      "text/plain": [
       "<Response [200]>"
      ]
     },
     "execution_count": 22,
     "metadata": {},
     "output_type": "execute_result"
    }
   ],
   "source": [
    "lenta_response"
   ]
  },
  {
   "cell_type": "code",
   "execution_count": 23,
   "id": "b6698a20-9da4-4005-aebb-0528daa72890",
   "metadata": {},
   "outputs": [],
   "source": [
    "lenta_html = html.fromstring(lenta_response.text)"
   ]
  },
  {
   "cell_type": "code",
   "execution_count": 24,
   "id": "86abc3e7-eabd-4861-b13e-49a64b0070ae",
   "metadata": {},
   "outputs": [
    {
     "data": {
      "text/plain": [
       "<Element html at 0x7f92ce6b7e00>"
      ]
     },
     "execution_count": 24,
     "metadata": {},
     "output_type": "execute_result"
    }
   ],
   "source": [
    "lenta_html"
   ]
  },
  {
   "cell_type": "code",
   "execution_count": 25,
   "id": "81554cc9-479d-4424-9c4d-b2f2651c327e",
   "metadata": {},
   "outputs": [
    {
     "data": {
      "text/plain": [
       "[<Element div at 0x7f92ce58f7c0>]"
      ]
     },
     "execution_count": 25,
     "metadata": {},
     "output_type": "execute_result"
    }
   ],
   "source": [
    "lenta_first_news = lenta_html.xpath('//div[@class=\"first-item\"]')\n",
    "lenta_first_news"
   ]
  },
  {
   "cell_type": "code",
   "execution_count": 26,
   "id": "11b5dcfc-49ab-4842-b2bb-5624e5503486",
   "metadata": {},
   "outputs": [
    {
     "name": "stdout",
     "output_type": "stream",
     "text": [
      "Новость - ['В небе над Узбекистаном столкнулись МиГ-29\\xa0и афганский самолет']\n",
      "Источник - Пока не знаю\n",
      "Ссылка - ['/news/2021/08/16/samolet_uz/']\n",
      "Время публикации - [' 19:26, 16 августа 2021']\n"
     ]
    }
   ],
   "source": [
    "first_herf = lenta_first_news[0].xpath(\".//h2/a[1]/@href\")\n",
    "first_title = lenta_first_news[0].xpath(\".//h2/a/text()\")\n",
    "first_source = \"Пока не знаю\"\n",
    "# lenta_first_news[0].xpath(\"\")\n",
    "first_time_pub = lenta_first_news[0].xpath(\".//h2/a/time/@datetime\")\n",
    "print(f'Новость - {first_title}\\nИсточник - {first_source}\\nСсылка - {first_herf}\\nВремя публикации - {first_time_pub}')"
   ]
  },
  {
   "cell_type": "code",
   "execution_count": 27,
   "id": "5b4528b5-ac4b-4c33-a7c0-a74d1a7d1473",
   "metadata": {},
   "outputs": [
    {
     "data": {
      "text/plain": [
       "[<Element div at 0x7f92ce6c17c0>,\n",
       " <Element div at 0x7f92df39d310>,\n",
       " <Element div at 0x7f92df39d810>,\n",
       " <Element div at 0x7f92df39de00>,\n",
       " <Element div at 0x7f92ce731cc0>,\n",
       " <Element div at 0x7f92ce731c70>,\n",
       " <Element div at 0x7f92df3efb80>,\n",
       " <Element div at 0x7f92ce6b7c70>,\n",
       " <Element div at 0x7f92ce6b7810>,\n",
       " <Element div at 0x7f92ce6b7b30>,\n",
       " <Element div at 0x7f92ce6b7c20>,\n",
       " <Element div at 0x7f92ce6b7680>,\n",
       " <Element div at 0x7f92ce6b7a90>,\n",
       " <Element div at 0x7f92ce6b02c0>,\n",
       " <Element div at 0x7f92ce6b0a90>,\n",
       " <Element div at 0x7f92ce6b0b80>,\n",
       " <Element div at 0x7f92ce6b0950>,\n",
       " <Element div at 0x7f92ce6b0b30>]"
      ]
     },
     "execution_count": 27,
     "metadata": {},
     "output_type": "execute_result"
    }
   ],
   "source": [
    "lenta_news = lenta_html.xpath('//div[@class=\"item\"]')\n",
    "lenta_news"
   ]
  },
  {
   "cell_type": "code",
   "execution_count": 28,
   "id": "1a70b7f1-bc26-4a51-9c6b-c8dee5d50763",
   "metadata": {},
   "outputs": [
    {
     "name": "stdout",
     "output_type": "stream",
     "text": [
      "Новость - ['Власти Китая рассказали об\\xa0ожиданиях от «Талибана»']\n",
      "Источник - Пока не знаю\n",
      "Ссылка - ['/news/2021/08/16/unhollyalliance/']\n",
      "Время публикации - [' 20:01, 16 августа 2021']\n",
      "\n",
      "Новость - ['Власти Китая рассказали об\\xa0ожиданиях от «Талибана»']\n",
      "Источник - Пока не знаю\n",
      "Ссылка - ['/news/2021/08/16/unhollyalliance/']\n",
      "Время публикации - [' 20:01, 16 августа 2021']\n",
      "\n",
      "Новость - ['Власти Китая рассказали об\\xa0ожиданиях от «Талибана»']\n",
      "Источник - Пока не знаю\n",
      "Ссылка - ['/news/2021/08/16/unhollyalliance/']\n",
      "Время публикации - [' 20:01, 16 августа 2021']\n",
      "\n",
      "Новость - ['Власти Китая рассказали об\\xa0ожиданиях от «Талибана»']\n",
      "Источник - Пока не знаю\n",
      "Ссылка - ['/news/2021/08/16/unhollyalliance/']\n",
      "Время публикации - [' 20:01, 16 августа 2021']\n",
      "\n",
      "Новость - ['Власти Китая рассказали об\\xa0ожиданиях от «Талибана»']\n",
      "Источник - Пока не знаю\n",
      "Ссылка - ['/news/2021/08/16/unhollyalliance/']\n",
      "Время публикации - [' 20:01, 16 августа 2021']\n",
      "\n",
      "Новость - ['Власти Китая рассказали об\\xa0ожиданиях от «Талибана»']\n",
      "Источник - Пока не знаю\n",
      "Ссылка - ['/news/2021/08/16/unhollyalliance/']\n",
      "Время публикации - [' 20:01, 16 августа 2021']\n",
      "\n",
      "Новость - ['Власти Китая рассказали об\\xa0ожиданиях от «Талибана»']\n",
      "Источник - Пока не знаю\n",
      "Ссылка - ['/news/2021/08/16/unhollyalliance/']\n",
      "Время публикации - [' 20:01, 16 августа 2021']\n",
      "\n",
      "Новость - ['Власти Китая рассказали об\\xa0ожиданиях от «Талибана»']\n",
      "Источник - Пока не знаю\n",
      "Ссылка - ['/news/2021/08/16/unhollyalliance/']\n",
      "Время публикации - [' 20:01, 16 августа 2021']\n",
      "\n",
      "Новость - ['Власти Китая рассказали об\\xa0ожиданиях от «Талибана»']\n",
      "Источник - Пока не знаю\n",
      "Ссылка - ['/news/2021/08/16/unhollyalliance/']\n",
      "Время публикации - [' 20:01, 16 августа 2021']\n",
      "\n",
      "Новость - ['Власти Китая рассказали об\\xa0ожиданиях от «Талибана»']\n",
      "Источник - Пока не знаю\n",
      "Ссылка - ['/news/2021/08/16/unhollyalliance/']\n",
      "Время публикации - [' 20:01, 16 августа 2021']\n",
      "\n",
      "Новость - ['Власти Китая рассказали об\\xa0ожиданиях от «Талибана»']\n",
      "Источник - Пока не знаю\n",
      "Ссылка - ['/news/2021/08/16/unhollyalliance/']\n",
      "Время публикации - [' 20:01, 16 августа 2021']\n",
      "\n",
      "Новость - ['Власти Китая рассказали об\\xa0ожиданиях от «Талибана»']\n",
      "Источник - Пока не знаю\n",
      "Ссылка - ['/news/2021/08/16/unhollyalliance/']\n",
      "Время публикации - [' 20:01, 16 августа 2021']\n",
      "\n",
      "Новость - ['Власти Китая рассказали об\\xa0ожиданиях от «Талибана»']\n",
      "Источник - Пока не знаю\n",
      "Ссылка - ['/news/2021/08/16/unhollyalliance/']\n",
      "Время публикации - [' 20:01, 16 августа 2021']\n",
      "\n",
      "Новость - ['Власти Китая рассказали об\\xa0ожиданиях от «Талибана»']\n",
      "Источник - Пока не знаю\n",
      "Ссылка - ['/news/2021/08/16/unhollyalliance/']\n",
      "Время публикации - [' 20:01, 16 августа 2021']\n",
      "\n",
      "Новость - ['Власти Китая рассказали об\\xa0ожиданиях от «Талибана»']\n",
      "Источник - Пока не знаю\n",
      "Ссылка - ['/news/2021/08/16/unhollyalliance/']\n",
      "Время публикации - [' 20:01, 16 августа 2021']\n",
      "\n",
      "Новость - ['Власти Китая рассказали об\\xa0ожиданиях от «Талибана»']\n",
      "Источник - Пока не знаю\n",
      "Ссылка - ['/news/2021/08/16/unhollyalliance/']\n",
      "Время публикации - [' 20:01, 16 августа 2021']\n",
      "\n",
      "Новость - ['Власти Китая рассказали об\\xa0ожиданиях от «Талибана»']\n",
      "Источник - Пока не знаю\n",
      "Ссылка - ['/news/2021/08/16/unhollyalliance/']\n",
      "Время публикации - [' 20:01, 16 августа 2021']\n",
      "\n",
      "Новость - ['Власти Китая рассказали об\\xa0ожиданиях от «Талибана»']\n",
      "Источник - Пока не знаю\n",
      "Ссылка - ['/news/2021/08/16/unhollyalliance/']\n",
      "Время публикации - [' 20:01, 16 августа 2021']\n",
      "\n"
     ]
    }
   ],
   "source": [
    "for new in lenta_news:\n",
    "    herf = lenta_news[0].xpath(\".//a/@href\")\n",
    "    title = lenta_news[0].xpath(\".//a/text()\")\n",
    "    source = \"Пока не знаю\"\n",
    "    # lenta_first_news[0].xpath(\"\")\n",
    "    time_pub = lenta_news[0].xpath(\".//a/time/@datetime\")\n",
    "    print(f'Новость - {title}\\nИсточник - {source}\\nСсылка - {herf}\\nВремя публикации - {time_pub}\\n')"
   ]
  }
 ],
 "metadata": {
  "kernelspec": {
   "display_name": "Python 3",
   "language": "python",
   "name": "python3"
  },
  "language_info": {
   "codemirror_mode": {
    "name": "ipython",
    "version": 3
   },
   "file_extension": ".py",
   "mimetype": "text/x-python",
   "name": "python",
   "nbconvert_exporter": "python",
   "pygments_lexer": "ipython3",
   "version": "3.8.10"
  }
 },
 "nbformat": 4,
 "nbformat_minor": 5
}
